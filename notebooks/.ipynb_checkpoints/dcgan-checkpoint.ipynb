{
 "cells": [
  {
   "cell_type": "code",
   "execution_count": 4,
   "id": "5f92757a",
   "metadata": {},
   "outputs": [
    {
     "name": "stdout",
     "output_type": "stream",
     "text": [
      "Collecting tensorflow_datasets\n",
      "  Downloading tensorflow_datasets-4.6.0-py3-none-any.whl (4.3 MB)\n",
      "\u001b[K     |████████████████████████████████| 4.3 MB 3.6 MB/s eta 0:00:01\n",
      "\u001b[?25hCollecting dill\n",
      "  Downloading dill-0.3.5.1-py2.py3-none-any.whl (95 kB)\n",
      "\u001b[K     |████████████████████████████████| 95 kB 4.8 MB/s  eta 0:00:01\n",
      "\u001b[?25hRequirement already satisfied: tqdm in /home/h3r0/anaconda3/envs/jax/lib/python3.9/site-packages (from tensorflow_datasets) (4.64.0)\n",
      "Requirement already satisfied: protobuf>=3.12.2 in /home/h3r0/anaconda3/envs/jax/lib/python3.9/site-packages (from tensorflow_datasets) (3.19.4)\n",
      "Collecting toml\n",
      "  Downloading toml-0.10.2-py2.py3-none-any.whl (16 kB)\n",
      "Requirement already satisfied: numpy in /home/h3r0/anaconda3/envs/jax/lib/python3.9/site-packages (from tensorflow_datasets) (1.23.0)\n",
      "Requirement already satisfied: six in /home/h3r0/anaconda3/envs/jax/lib/python3.9/site-packages (from tensorflow_datasets) (1.16.0)\n",
      "Collecting tensorflow-metadata\n",
      "  Downloading tensorflow_metadata-1.9.0-py3-none-any.whl (51 kB)\n",
      "\u001b[K     |████████████████████████████████| 51 kB 5.9 MB/s  eta 0:00:01\n",
      "\u001b[?25hRequirement already satisfied: etils[epath] in /home/h3r0/anaconda3/envs/jax/lib/python3.9/site-packages (from tensorflow_datasets) (0.6.0)\n",
      "Requirement already satisfied: termcolor in /home/h3r0/anaconda3/envs/jax/lib/python3.9/site-packages (from tensorflow_datasets) (1.1.0)\n",
      "Collecting promise\n",
      "  Downloading promise-2.3.tar.gz (19 kB)\n",
      "Requirement already satisfied: requests>=2.19.0 in /home/h3r0/anaconda3/envs/jax/lib/python3.9/site-packages (from tensorflow_datasets) (2.28.1)\n",
      "Requirement already satisfied: absl-py in /home/h3r0/anaconda3/envs/jax/lib/python3.9/site-packages (from tensorflow_datasets) (1.1.0)\n",
      "Requirement already satisfied: charset-normalizer<3,>=2 in /home/h3r0/anaconda3/envs/jax/lib/python3.9/site-packages (from requests>=2.19.0->tensorflow_datasets) (2.1.0)\n",
      "Requirement already satisfied: idna<4,>=2.5 in /home/h3r0/anaconda3/envs/jax/lib/python3.9/site-packages (from requests>=2.19.0->tensorflow_datasets) (3.3)\n",
      "Requirement already satisfied: certifi>=2017.4.17 in /home/h3r0/anaconda3/envs/jax/lib/python3.9/site-packages (from requests>=2.19.0->tensorflow_datasets) (2022.6.15)\n",
      "Requirement already satisfied: urllib3<1.27,>=1.21.1 in /home/h3r0/anaconda3/envs/jax/lib/python3.9/site-packages (from requests>=2.19.0->tensorflow_datasets) (1.26.10)\n",
      "Requirement already satisfied: importlib_resources in /home/h3r0/anaconda3/envs/jax/lib/python3.9/site-packages (from etils[epath]->tensorflow_datasets) (5.8.0)\n",
      "Requirement already satisfied: zipp in /home/h3r0/anaconda3/envs/jax/lib/python3.9/site-packages (from etils[epath]->tensorflow_datasets) (3.8.0)\n",
      "Requirement already satisfied: typing_extensions in /home/h3r0/anaconda3/envs/jax/lib/python3.9/site-packages (from etils[epath]->tensorflow_datasets) (4.3.0)\n",
      "Collecting googleapis-common-protos<2,>=1.52.0\n",
      "  Downloading googleapis_common_protos-1.56.3-py2.py3-none-any.whl (211 kB)\n",
      "\u001b[K     |████████████████████████████████| 211 kB 13.1 MB/s eta 0:00:01\n",
      "\u001b[?25hBuilding wheels for collected packages: promise\n",
      "  Building wheel for promise (setup.py) ... \u001b[?25ldone\n",
      "\u001b[?25h  Created wheel for promise: filename=promise-2.3-py3-none-any.whl size=21503 sha256=9fbdbe58a61d5f598586ab18533ceca309b228da08cfea294ee6ce706c76381a\n",
      "  Stored in directory: /home/h3r0/.cache/pip/wheels/e1/e8/83/ddea66100678d139b14bc87692ece57c6a2a937956d2532608\n",
      "Successfully built promise\n",
      "Installing collected packages: googleapis-common-protos, toml, tensorflow-metadata, promise, dill, tensorflow-datasets\n",
      "Successfully installed dill-0.3.5.1 googleapis-common-protos-1.56.3 promise-2.3 tensorflow-datasets-4.6.0 tensorflow-metadata-1.9.0 toml-0.10.2\n"
     ]
    }
   ],
   "source": [
    "!pip install tensorflow_datasets"
   ]
  },
  {
   "cell_type": "code",
   "execution_count": 2,
   "id": "0388ab6a",
   "metadata": {},
   "outputs": [],
   "source": [
    "import requests\n",
    "import os\n",
    "# if 'TPU_DRIVER_MODE' not in globals():\n",
    "#   url = 'http://' + os.environ['COLAB_TPU_ADDR'].split(':')[0] + ':8475/requestversion/tpu_driver_nightly'\n",
    "#   resp = requests.post(url)\n",
    "#   TPU_DRIVER_MODE = 1\n",
    "# The following is required to use TPU Driver as JAX's backend.\n",
    "import os\n",
    "from jax.config import config\n",
    "# config.FLAGS.jax_xla_backend = \"tpu_driver\"\n",
    "# config.FLAGS.jax_backend_target = \"grpc://\" + os.environ['COLAB_TPU_ADDR']\n",
    "# print(config.FLAGS.jax_backend_target)"
   ]
  },
  {
   "cell_type": "code",
   "execution_count": 5,
   "id": "349aa55e",
   "metadata": {},
   "outputs": [],
   "source": [
    "import os\n",
    "from functools import partial\n",
    "\n",
    "import numpy as np\n",
    "from tqdm import tqdm\n",
    "import matplotlib.pyplot as plt\n",
    "\n",
    "import jax\n",
    "import jax.numpy as jnp\n",
    "\n",
    "import flax\n",
    "from flax import linen as nn\n",
    "\n",
    "import tensorflow as tf\n",
    "import tensorflow_datasets as tfds\n",
    "\n",
    "def shard(xs):\n",
    "    return jax.tree_map(\n",
    "        lambda x: x.reshape((jax.device_count(), -1) + x.shape[1:]), xs)\n",
    "\n",
    "class Generator(nn.Module):\n",
    "    training: bool\n",
    "\n",
    "    @nn.compact\n",
    "    def __call__(self, z):\n",
    "        x = nn.ConvTranspose(features=64*8, kernel_size=(4, 4),\n",
    "                             strides=(1, 1), padding='VALID', use_bias=False)(z)\n",
    "        x = nn.BatchNorm(\n",
    "            use_running_average=not self.training, momentum=0.9)(x)\n",
    "        x = nn.relu(x)\n",
    "\n",
    "        x = nn.ConvTranspose(features=64*4, kernel_size=(4, 4),\n",
    "                             strides=(2, 2), padding='SAME', use_bias=False)(x)\n",
    "        x = nn.BatchNorm(\n",
    "            use_running_average=not self.training, momentum=0.9)(x)\n",
    "        x = nn.relu(x)\n",
    "\n",
    "        x = nn.ConvTranspose(features=64*2, kernel_size=(4, 4),\n",
    "                             strides=(2, 2), padding='SAME', use_bias=False)(x)\n",
    "        x = nn.BatchNorm(\n",
    "            use_running_average=not self.training, momentum=0.9)(x)\n",
    "        x = nn.relu(x)\n",
    "\n",
    "        x = nn.ConvTranspose(features=64, kernel_size=(\n",
    "            4, 4), strides=(2, 2), padding='SAME', use_bias=False)(x)\n",
    "        x = nn.BatchNorm(\n",
    "            use_running_average=not self.training, momentum=0.9)(x)\n",
    "        x = nn.relu(x)\n",
    "\n",
    "        x = nn.ConvTranspose(features=1, kernel_size=(\n",
    "            4, 4), strides=(1, 1), padding='SAME', use_bias=False)(x)\n",
    "        return jnp.tanh(x)\n",
    "\n",
    "\n",
    "class Discriminator(nn.Module):\n",
    "    training: bool\n",
    "\n",
    "    @nn.compact\n",
    "    def __call__(self, x):\n",
    "        x = nn.Conv(features=64, kernel_size=(\n",
    "            4, 4), strides=(2, 2), padding='SAME', use_bias=False)(x)\n",
    "        x = nn.leaky_relu(x, negative_slope=0.2)\n",
    "\n",
    "        x = nn.Conv(features=64*2, kernel_size=(4, 4),\n",
    "                    strides=(2, 2), padding='SAME', use_bias=False)(x)\n",
    "        x = nn.BatchNorm(\n",
    "            use_running_average=not self.training, momentum=0.9)(x)\n",
    "        x = nn.leaky_relu(x, negative_slope=0.2)\n",
    "\n",
    "        x = nn.Conv(features=64*4, kernel_size=(4, 4),\n",
    "                    strides=(2, 2), padding='SAME', use_bias=False)(x)\n",
    "        x = nn.BatchNorm(\n",
    "            use_running_average=not self.training, momentum=0.9)(x)\n",
    "        x = nn.leaky_relu(x, negative_slope=0.2)\n",
    "\n",
    "        x = nn.Conv(features=64*8, kernel_size=(4, 4),\n",
    "                    strides=(2, 2), padding='SAME', use_bias=False)(x)\n",
    "        x = nn.BatchNorm(\n",
    "            use_running_average=not self.training, momentum=0.9)(x)\n",
    "        x = nn.leaky_relu(x, negative_slope=0.2)\n",
    "\n",
    "        x = nn.Conv(features=1, kernel_size=(\n",
    "            1, 1), strides=(4, 4), padding='VALID', use_bias=False)(x)\n",
    "        x = jnp.reshape(x, [x.shape[0], -1])\n",
    "\n",
    "        return x\n",
    "\n",
    "\n",
    "@jax.vmap\n",
    "def bce_logits_loss(logit, label):\n",
    "    return jnp.maximum(logit, 0) - logit * label + jnp.log(1 + jnp.exp(-jnp.abs(logit)))\n",
    "\n",
    "\n",
    "def loss_g(params_g, params_d, batch, rng, variables_g, variables_d):\n",
    "    z = jax.random.normal(rng, shape=(batch.shape[0], 1, 1, 100))\n",
    "\n",
    "    fake_batch, variables_g = Generator(training=True).apply(\n",
    "        {'params': params_g, 'batch_stats': variables_g['batch_stats']}, z, mutable=['batch_stats'])\n",
    "\n",
    "    fake_logits, variables_d = Discriminator(training=True).apply(\n",
    "        {'params': params_d, 'batch_stats': variables_d['batch_stats']}, fake_batch, mutable=['batch_stats'])\n",
    "\n",
    "    real_labels = jnp.ones((batch.shape[0],), dtype=jnp.int32)\n",
    "    return jnp.mean(bce_logits_loss(fake_logits, real_labels)), (variables_g, variables_d)\n",
    "\n",
    "\n",
    "def loss_d(params_d, params_g, batch, rng, variables_g, variables_d):\n",
    "    z = jax.random.normal(rng, shape=(batch.shape[0], 1, 1, 100))\n",
    "\n",
    "    fake_batch, variables_g = Generator(training=True).apply(\n",
    "        {'params': params_g, 'batch_stats': variables_g['batch_stats']}, z, mutable=['batch_stats'])\n",
    "\n",
    "    real_logits, variables_d = Discriminator(training=True).apply(\n",
    "        {'params': params_d, 'batch_stats': variables_d['batch_stats']}, batch, mutable=['batch_stats'])\n",
    "    fake_logits, variables_d = Discriminator(training=True).apply(\n",
    "        {'params': params_d, 'batch_stats': variables_d['batch_stats']}, fake_batch, mutable=['batch_stats'])\n",
    "\n",
    "    real_labels = jnp.ones((batch.shape[0],), dtype=jnp.int32)\n",
    "    real_loss = bce_logits_loss(real_logits, real_labels)\n",
    "\n",
    "    fake_labels = jnp.zeros((batch.shape[0],), dtype=jnp.int32)\n",
    "    fake_loss = bce_logits_loss(fake_logits, fake_labels)\n",
    "\n",
    "    return jnp.mean(real_loss + fake_loss), (variables_g, variables_d)\n",
    "\n",
    "\n",
    "@partial(jax.pmap, axis_name='batch')\n",
    "def train_step(rng, variables_g, variables_d, optimizer_g, optimizer_d, batch):\n",
    "    rng, rng_g, rng_d = jax.random.split(rng, 3)\n",
    "\n",
    "    (g_loss, (variables_g, variables_d)), grad_g = jax.value_and_grad(loss_g, has_aux=True)(\n",
    "        optimizer_g.target, optimizer_d.target, batch, rng_g, variables_g, variables_d)\n",
    "    g_loss = jax.lax.pmean(g_loss, axis_name='batch')\n",
    "    grad_g = jax.lax.pmean(grad_g, axis_name='batch')\n",
    "\n",
    "    optimizer_g = optimizer_g.apply_gradient(grad_g)\n",
    "\n",
    "    (d_loss, (variables_g, variables_d)), grad_d = jax.value_and_grad(loss_d, has_aux=True)(\n",
    "        optimizer_d.target, optimizer_g.target, batch, rng_d, variables_g, variables_d)\n",
    "\n",
    "    d_loss = jax.lax.pmean(d_loss, axis_name='batch')\n",
    "    grad_d = jax.lax.pmean(grad_d, axis_name='batch')\n",
    "\n",
    "    optimizer_d = optimizer_d.apply_gradient(grad_d)\n",
    "\n",
    "    return rng, variables_g, variables_d, optimizer_g, optimizer_d, d_loss, g_loss\n",
    "\n",
    "\n",
    "def make_dataset(batch_size, seed=1):\n",
    "    mnist = tfds.load(\"mnist\")\n",
    "\n",
    "    def _preprocess(sample):\n",
    "        image = tf.image.convert_image_dtype(sample[\"image\"], tf.float32)\n",
    "        image = tf.image.resize(image, (32, 32))\n",
    "        return 2.0 * image - 1.0\n",
    "\n",
    "    ds = mnist[\"train\"]\n",
    "    ds = ds.map(map_func=_preprocess,\n",
    "                num_parallel_calls=tf.data.experimental.AUTOTUNE)\n",
    "    ds = ds.shuffle(10 * batch_size, seed=seed).repeat().batch(batch_size)\n",
    "    return iter(tfds.as_numpy(ds))\n",
    "\n",
    "\n",
    "def main():\n",
    "    dataset = make_dataset(batch_size=256)\n",
    "\n",
    "    rng = jax.random.PRNGKey(42)\n",
    "    rng, rng_g, rng_d = jax.random.split(rng, 3)\n",
    "\n",
    "    init_batch_g = jnp.ones((1, 1, 1, 100), jnp.float32)\n",
    "    variables_g = Generator(training=True).init(rng_g, init_batch_g)\n",
    "\n",
    "    init_batch_d = jnp.ones((1, 32, 32, 1), jnp.float32)\n",
    "    variables_d = Discriminator(training=True).init(rng_d, init_batch_d)\n",
    "\n",
    "    optimizer_g = flax.optim.Adam(\n",
    "        learning_rate=1e-4, beta1=0.5, beta2=0.9).create(variables_g[\"params\"])\n",
    "    optimizer_g = flax.jax_utils.replicate(optimizer_g)\n",
    "\n",
    "    optimizer_d = flax.optim.Adam(\n",
    "        learning_rate=1e-4, beta1=0.5, beta2=0.9).create(variables_d[\"params\"])\n",
    "    optimizer_d = flax.jax_utils.replicate(optimizer_d)\n",
    "\n",
    "    variables_g = flax.jax_utils.replicate(variables_g)\n",
    "    variables_d = flax.jax_utils.replicate(variables_d)\n",
    "\n",
    "    rngs = jax.random.split(rng, num=jax.local_device_count())\n",
    "\n",
    "    g_losses = []\n",
    "    d_losses = []\n",
    "\n",
    "    for i in tqdm(range(2000)):\n",
    "        img_a = shard(next(dataset))\n",
    "\n",
    "        rngs, variables_g, variables_d, optimizer_g, optimizer_d, d_loss, g_loss = train_step(\n",
    "            rngs, variables_g, variables_d, optimizer_g, optimizer_d, img_a)\n",
    "\n",
    "        if i % 10 == 0:\n",
    "            g_losses.append(float(jnp.mean(g_loss)))\n",
    "            d_losses.append(float(jnp.mean(d_loss)))\n",
    "\n",
    "            if i % 500 == 0:\n",
    "                rng, rng_sample = jax.random.split(rng)\n",
    "                z = jax.random.normal(rng_sample, shape=(1, 1, 1, 100))\n",
    "\n",
    "                temp_params_g = flax.jax_utils.unreplicate(\n",
    "                    optimizer_g.target)\n",
    "                temp_variables_g = flax.jax_utils.unreplicate(variables_g)\n",
    "\n",
    "                samples = Generator(training=False).apply(\n",
    "                    {'params': temp_params_g, 'batch_stats': temp_variables_g['batch_stats']}, z, mutable=False)\n",
    "\n",
    "                img = jnp.reshape((samples + 1) / 2, [32, 32])\n",
    "                plt.imshow(img, cmap='gray')\n",
    "                plt.show()\n",
    "    return g_losses, d_losses"
   ]
  },
  {
   "cell_type": "code",
   "execution_count": 6,
   "id": "b23d1ec0",
   "metadata": {},
   "outputs": [
    {
     "name": "stderr",
     "output_type": "stream",
     "text": [
      "WARNING:absl:No GPU/TPU found, falling back to CPU. (Set TF_CPP_MIN_LOG_LEVEL=0 and rerun for more info.)\n"
     ]
    },
    {
     "name": "stdout",
     "output_type": "stream",
     "text": [
      "[CpuDevice(id=0)]\n"
     ]
    }
   ],
   "source": [
    "print(jax.devices())"
   ]
  },
  {
   "cell_type": "code",
   "execution_count": null,
   "id": "21f635ba",
   "metadata": {},
   "outputs": [
    {
     "name": "stderr",
     "output_type": "stream",
     "text": [
      "2022-07-07 19:22:26.846455: W tensorflow/core/platform/cloud/google_auth_provider.cc:184] All attempts to get a Google authentication bearer token failed, returning an empty token. Retrieving token from files failed with \"NOT_FOUND: Could not locate the credentials file.\". Retrieving token from GCE failed with \"FAILED_PRECONDITION: Error executing an HTTP request: libcurl code 6 meaning 'Couldn't resolve host name', error details: Could not resolve host: metadata\".\n"
     ]
    },
    {
     "name": "stdout",
     "output_type": "stream",
     "text": [
      "\u001b[1mDownloading and preparing dataset 11.06 MiB (download: 11.06 MiB, generated: 21.00 MiB, total: 32.06 MiB) to ~/tensorflow_datasets/mnist/3.0.1...\u001b[0m\n"
     ]
    },
    {
     "data": {
      "application/vnd.jupyter.widget-view+json": {
       "model_id": "a980b0d1aebe4be0b9bce36f4f63e089",
       "version_major": 2,
       "version_minor": 0
      },
      "text/plain": [
       "Dl Completed...:   0%|          | 0/4 [00:00<?, ? file/s]"
      ]
     },
     "metadata": {},
     "output_type": "display_data"
    },
    {
     "name": "stdout",
     "output_type": "stream",
     "text": [
      "\u001b[1mDataset mnist downloaded and prepared to ~/tensorflow_datasets/mnist/3.0.1. Subsequent calls will reuse this data.\u001b[0m\n"
     ]
    },
    {
     "name": "stderr",
     "output_type": "stream",
     "text": [
      "2022-07-07 19:22:32.857811: W tensorflow/stream_executor/platform/default/dso_loader.cc:64] Could not load dynamic library 'libcudart.so.11.0'; dlerror: libcudart.so.11.0: cannot open shared object file: No such file or directory\n",
      "2022-07-07 19:22:32.857963: W tensorflow/stream_executor/platform/default/dso_loader.cc:64] Could not load dynamic library 'libcublas.so.11'; dlerror: libcublas.so.11: cannot open shared object file: No such file or directory\n",
      "2022-07-07 19:22:32.858070: W tensorflow/stream_executor/platform/default/dso_loader.cc:64] Could not load dynamic library 'libcublasLt.so.11'; dlerror: libcublasLt.so.11: cannot open shared object file: No such file or directory\n",
      "2022-07-07 19:22:32.858175: W tensorflow/stream_executor/platform/default/dso_loader.cc:64] Could not load dynamic library 'libcufft.so.10'; dlerror: libcufft.so.10: cannot open shared object file: No such file or directory\n",
      "2022-07-07 19:22:32.858276: W tensorflow/stream_executor/platform/default/dso_loader.cc:64] Could not load dynamic library 'libcurand.so.10'; dlerror: libcurand.so.10: cannot open shared object file: No such file or directory\n",
      "2022-07-07 19:22:32.858376: W tensorflow/stream_executor/platform/default/dso_loader.cc:64] Could not load dynamic library 'libcusolver.so.11'; dlerror: libcusolver.so.11: cannot open shared object file: No such file or directory\n",
      "2022-07-07 19:22:32.858476: W tensorflow/stream_executor/platform/default/dso_loader.cc:64] Could not load dynamic library 'libcusparse.so.11'; dlerror: libcusparse.so.11: cannot open shared object file: No such file or directory\n",
      "2022-07-07 19:22:32.858575: W tensorflow/stream_executor/platform/default/dso_loader.cc:64] Could not load dynamic library 'libcudnn.so.8'; dlerror: libcudnn.so.8: cannot open shared object file: No such file or directory\n",
      "2022-07-07 19:22:32.858589: W tensorflow/core/common_runtime/gpu/gpu_device.cc:1850] Cannot dlopen some GPU libraries. Please make sure the missing libraries mentioned above are installed properly if you would like to use GPU. Follow the guide at https://www.tensorflow.org/install/gpu for how to download and setup the required libraries for your platform.\n",
      "Skipping registering GPU devices...\n",
      "/home/h3r0/anaconda3/envs/jax/lib/python3.9/site-packages/flax/optim/base.py:49: DeprecationWarning: Use `optax` instead of `flax.optim`. Refer to the update guide https://flax.readthedocs.io/en/latest/howtos/optax_update_guide.html for detailed instructions.\n",
      "  warnings.warn(\n",
      "/home/h3r0/anaconda3/envs/jax/lib/python3.9/site-packages/flax/optim/base.py:49: DeprecationWarning: Use `optax` instead of `flax.optim`. Refer to the update guide https://flax.readthedocs.io/en/latest/howtos/optax_update_guide.html for detailed instructions.\n",
      "  warnings.warn(\n",
      "  0%|                                                          | 0/2000 [00:00<?, ?it/s]"
     ]
    },
    {
     "data": {
      "image/png": "[encoded data removed]",
      "text/plain": [
       "<Figure size 432x288 with 1 Axes>"
      ]
     },
     "metadata": {
      "needs_background": "light"
     },
     "output_type": "display_data"
    },
    {
     "name": "stderr",
     "output_type": "stream",
     "text": [
      "  1%|▌                                             | 26/2000 [24:44<32:42:16, 59.64s/it]"
     ]
    }
   ],
   "source": [
    "g_losses, d_losses = main()"
   ]
  },
  {
   "cell_type": "code",
   "execution_count": null,
   "id": "170b8720",
   "metadata": {},
   "outputs": [],
   "source": [
    "plt.plot(g_losses, label='g_loss')\n",
    "plt.plot(d_losses, label='d_loss')\n",
    "plt.legend()\n",
    "plt.show()"
   ]
  },
  {
   "cell_type": "code",
   "execution_count": null,
   "id": "6db59a5d",
   "metadata": {},
   "outputs": [],
   "source": []
  }
 ],
 "metadata": {
  "kernelspec": {
   "display_name": "Python 3 (ipykernel)",
   "language": "python",
   "name": "python3"
  },
  "language_info": {
   "codemirror_mode": {
    "name": "ipython",
    "version": 3
   },
   "file_extension": ".py",
   "mimetype": "text/x-python",
   "name": "python",
   "nbconvert_exporter": "python",
   "pygments_lexer": "ipython3",
   "version": "3.9.12"
  }
 },
 "nbformat": 4,
 "nbformat_minor": 5
}
